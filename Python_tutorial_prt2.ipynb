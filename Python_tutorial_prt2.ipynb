{
 "cells": [
  {
   "cell_type": "markdown",
   "metadata": {},
   "source": [
    "# Python Tutorial prt. 2\n",
    "\n",
    "## 1.Коллекции\n",
    "\n",
    "### 1.1.set (множество)\n",
    "\n",
    "**Множество** — это составной тип данных, представляющий собой несколько значений (элементов множества) под одним именем. Этот тип называется **set** — не создавайте, пожалуйста, переменные с таким именем! Чтобы задать множество, нужно в фигурных скобках перечислить его элементы.\n",
    "\n",
    "Здесь создается множество из четырех элементов (названий млекопитающих), которое затем выводится на экран:"
   ]
  },
  {
   "cell_type": "code",
   "execution_count": 1,
   "metadata": {},
   "outputs": [
    {
     "name": "stdout",
     "output_type": "stream",
     "text": [
      "{'fox', 'elephant', 'dog', 'cat'}\n"
     ]
    }
   ],
   "source": [
    "mammals = {'cat', 'dog', 'fox', 'elephant'}\n",
    "print(mammals)"
   ]
  },
  {
   "cell_type": "markdown",
   "metadata": {},
   "source": [
    "Для **создания пустых множеств** обязательно вызывать **функцию set**: `empty = set()`\n",
    "\n",
    "Обратите внимание: элементами множества могут быть строки или числа. Возникает вопрос: а может ли множество содержать и строки, и числа? Давайте попробуем:"
   ]
  },
  {
   "cell_type": "code",
   "execution_count": 2,
   "metadata": {},
   "outputs": [
    {
     "name": "stdout",
     "output_type": "stream",
     "text": [
      "{3, 4, 5, 'cat', 12, 'dog', 'fox', 'elephant'}\n"
     ]
    }
   ],
   "source": [
    "mammals_and_numbers = {'cat', 5, 'dog', 3, 'fox', 12, 'elephant', 4}\n",
    "print(mammals_and_numbers)"
   ]
  },
  {
   "cell_type": "markdown",
   "metadata": {},
   "source": [
    "Может ли элемент входить во множество несколько раз? Это было бы странно, так как совершенно непонятно, как отличить один элемент от другого. Поэтому множество содержит каждый элемент только один раз. Следующий фрагмент кода это демонстрирует:"
   ]
  },
  {
   "cell_type": "code",
   "execution_count": 3,
   "metadata": {},
   "outputs": [
    {
     "name": "stdout",
     "output_type": "stream",
     "text": [
      "{'sparrow', 'raven', 'hawk', 'falcon', 'dove'}\n"
     ]
    }
   ],
   "source": [
    "birds = {'raven', 'sparrow', 'sparrow', 'dove', 'hawk', 'falcon'}\n",
    "print(birds)"
   ]
  },
  {
   "cell_type": "markdown",
   "metadata": {},
   "source": [
    "Итак, у множеств есть три ключевые особенности:\n",
    "\n",
    "- Порядок элементов во множестве не определён.\n",
    "- Элементы множеств — строки и/или числа.\n",
    "- Множество не может содержать одинаковых элементов.\n",
    "\n",
    "### Операции над одним множеством\n",
    "\n",
    "**len(x)** - возвращает длину множества **x**.\n",
    "\n",
    "Пример:"
   ]
  },
  {
   "cell_type": "code",
   "execution_count": 4,
   "metadata": {},
   "outputs": [
    {
     "name": "stdout",
     "output_type": "stream",
     "text": [
      "3\n"
     ]
    }
   ],
   "source": [
    "my_set = {'a', 'b', 'c'}\n",
    "n = len(my_set)\n",
    "print(n)"
   ]
  },
  {
   "cell_type": "markdown",
   "metadata": {},
   "source": [
    "**print(x)** - выводит множество **x** в формате `{<1-ый элемент>, <2-ой элемент>, ... , <последний элемент>}`.\n",
    "\n",
    "Пример:"
   ]
  },
  {
   "cell_type": "code",
   "execution_count": 5,
   "metadata": {},
   "outputs": [
    {
     "name": "stdout",
     "output_type": "stream",
     "text": [
      "{'a', 'b', 'c'}\n"
     ]
    }
   ],
   "source": [
    "my_set = {'a', 'b', 'c'}\n",
    "print(my_set)"
   ]
  },
  {
   "cell_type": "markdown",
   "metadata": {},
   "source": [
    "Очень часто необходимо обойти все элементы множества в цикле. Для этого используется цикл **for** и оператор **in**, с помощью которых можно перебрать не только все элементы диапазона (как мы это делали раньше, используя **range**), но и элементы множества:"
   ]
  },
  {
   "cell_type": "code",
   "execution_count": 6,
   "metadata": {},
   "outputs": [
    {
     "name": "stdout",
     "output_type": "stream",
     "text": [
      "a\n",
      "b\n",
      "c\n"
     ]
    }
   ],
   "source": [
    "my_set = {'a', 'b', 'c'}\n",
    "for elem in my_set:\n",
    "    print(elem)"
   ]
  },
  {
   "cell_type": "markdown",
   "metadata": {},
   "source": [
    "Чтобы **проверить наличие элемента** во множестве, можно воспользоваться уже знакомым оператором **in**:"
   ]
  },
  {
   "cell_type": "code",
   "execution_count": 7,
   "metadata": {},
   "outputs": [
    {
     "name": "stdout",
     "output_type": "stream",
     "text": [
      "Элемент 0 есть в множестве\n",
      "Элемент 1 есть в множестве\n",
      "Элемента 2 нет в множестве\n",
      "Элемента 3 нет в множестве\n",
      "Элемента 4 нет в множестве\n",
      "Элемент 5 есть в множестве\n",
      "Элемента 6 нет в множестве\n",
      "Элемент 7 есть в множестве\n",
      "Элемента 8 нет в множестве\n",
      "Элемент 9 есть в множестве\n"
     ]
    }
   ],
   "source": [
    "my_set = {5, 7, 9, 0, 1}\n",
    "for elem in range(10):\n",
    "    if elem in my_set:\n",
    "        print('Элемент', elem, 'есть в множестве')\n",
    "    else:\n",
    "        print('Элемента', elem, 'нет в множестве')"
   ]
  },
  {
   "cell_type": "markdown",
   "metadata": {},
   "source": [
    "**Добавление элемента в множество** делается при помощи add:"
   ]
  },
  {
   "cell_type": "code",
   "execution_count": 8,
   "metadata": {},
   "outputs": [
    {
     "name": "stdout",
     "output_type": "stream",
     "text": [
      "{0, 1, 5, 7, 9, 'e'}\n"
     ]
    }
   ],
   "source": [
    "new_elem = 'e'\n",
    "my_set.add(new_elem)\n",
    "print(my_set)"
   ]
  },
  {
   "cell_type": "markdown",
   "metadata": {},
   "source": [
    "**add** — это что-то вроде функции, «приклеенной» к конкретному множеству. Такие «приклеенные функции» называются **методами**.\n",
    "\n",
    "Таким образом, если в коде присутствует имя множества, затем точка и еще одно название со скобками, то второе название — имя метода. Если элемент, равный **new_elem**, уже существует во множестве, то оно не изменится, поскольку не может содержать одинаковых элементов. Ошибки при этом не произойдёт. Небольшой пример:"
   ]
  },
  {
   "cell_type": "code",
   "execution_count": 9,
   "metadata": {},
   "outputs": [
    {
     "name": "stdout",
     "output_type": "stream",
     "text": [
      "{'a', 'b'}\n"
     ]
    }
   ],
   "source": [
    "my_set = set()\n",
    "my_set.add('a')\n",
    "my_set.add('b')\n",
    "my_set.add('a')\n",
    "print(my_set)"
   ]
  },
  {
   "cell_type": "markdown",
   "metadata": {},
   "source": [
    "С удалением элемента сложнее. Для этого есть сразу три метода: **discard** (удалить заданный элемент, если он есть во множестве, и ничего не делать, если его нет), **remove** (удалить заданный элемент, если он есть, и породить ошибку **KeyError**, если нет) и **pop**. Метод pop удаляет некоторый элемент из множества и возвращает его как результат. Порядок удаления при этом неизвестен."
   ]
  },
  {
   "cell_type": "code",
   "execution_count": 10,
   "metadata": {},
   "outputs": [
    {
     "name": "stdout",
     "output_type": "stream",
     "text": [
      "{'c'}\n"
     ]
    },
    {
     "ename": "KeyError",
     "evalue": "'world'",
     "output_type": "error",
     "traceback": [
      "\u001b[0;31m---------------------------------------------------------------------------\u001b[0m",
      "\u001b[0;31mKeyError\u001b[0m                                  Traceback (most recent call last)",
      "\u001b[0;32m<ipython-input-10-5a1c15f4439c>\u001b[0m in \u001b[0;36m<module>\u001b[0;34m\u001b[0m\n\u001b[1;32m      5\u001b[0m \u001b[0mmy_set\u001b[0m\u001b[0;34m.\u001b[0m\u001b[0mremove\u001b[0m\u001b[0;34m(\u001b[0m\u001b[0;34m'b'\u001b[0m\u001b[0;34m)\u001b[0m          \u001b[0;31m# Удалён\u001b[0m\u001b[0;34m\u001b[0m\u001b[0;34m\u001b[0m\u001b[0m\n\u001b[1;32m      6\u001b[0m \u001b[0mprint\u001b[0m\u001b[0;34m(\u001b[0m\u001b[0mmy_set\u001b[0m\u001b[0;34m)\u001b[0m               \u001b[0;31m# В множестве остался один элемент 'c'\u001b[0m\u001b[0;34m\u001b[0m\u001b[0;34m\u001b[0m\u001b[0m\n\u001b[0;32m----> 7\u001b[0;31m \u001b[0mmy_set\u001b[0m\u001b[0;34m.\u001b[0m\u001b[0mremove\u001b[0m\u001b[0;34m(\u001b[0m\u001b[0;34m'world'\u001b[0m\u001b[0;34m)\u001b[0m      \u001b[0;31m# Не удалён, ошибка KeyError\u001b[0m\u001b[0;34m\u001b[0m\u001b[0;34m\u001b[0m\u001b[0m\n\u001b[0m",
      "\u001b[0;31mKeyError\u001b[0m: 'world'"
     ]
    }
   ],
   "source": [
    "my_set = {'a', 'b', 'c'}\n",
    " \n",
    "my_set.discard('a')         # Удалён\n",
    "my_set.discard('hello')     # Не удалён, ошибки нет\n",
    "my_set.remove('b')          # Удалён\n",
    "print(my_set)               # В множестве остался один элемент 'c'\n",
    "my_set.remove('world')      # Не удалён, ошибка KeyError"
   ]
  },
  {
   "cell_type": "markdown",
   "metadata": {},
   "source": [
    "Метод **pop** удаляет из множества случайный элемент и возвращает его значение:"
   ]
  },
  {
   "cell_type": "code",
   "execution_count": 11,
   "metadata": {},
   "outputs": [
    {
     "name": "stdout",
     "output_type": "stream",
     "text": [
      "до удаления: {'a', 'b', 'c'}\n",
      "удалённый элемент: a\n",
      "после удаления: {'b', 'c'}\n"
     ]
    }
   ],
   "source": [
    "my_set = {'a', 'b', 'c'}\n",
    "print('до удаления:', my_set)\n",
    "elem = my_set.pop()\n",
    "print('удалённый элемент:', elem)\n",
    "print('после удаления:', my_set)"
   ]
  },
  {
   "cell_type": "markdown",
   "metadata": {},
   "source": [
    "**Очистить** множество от всех элементов можно методом **clear**:\n",
    "\n",
    "### Операции над двумя множествами\n",
    "\n",
    "Есть четыре операции, которые из двух множеств делают новое множество: объединение, пересечение, разность и симметричная разность.\n",
    "\n",
    "![](images/set-union.png)\n",
    "\n",
    "Объединение двух множеств включает в себя все элементы, которые есть хотя бы в одном из них. Для этой операции существует метод **union**:\n",
    "```python\n",
    "union = my_set1.union(my_set2)\n",
    "```\n",
    "Или можно использовать оператор |:\n",
    "```python\n",
    "union = my_set1 | my_set2\n",
    "```\n",
    "![](images/set-intersection.png)\n",
    "\n",
    "Пересечение двух множеств включает в себя все элементы, которые есть в обоих множествах:\n",
    "```python\n",
    "intersection = my_set1.intersection(my_set2)\n",
    "```\n",
    "или аналог:\n",
    "```python\n",
    "intersection = my_set1 & my_set2\n",
    "```\n",
    "![](images/set-difference.png)\n",
    "\n",
    "Разность двух множеств включает в себя все элементы, которые есть в первом множестве, но которых нет во втором:\n",
    "```python\n",
    "diff = my_set1.difference(my_set2)\n",
    "```\n",
    "Или аналог:\n",
    "```python\n",
    "diff = my_set1 - my_set2\n",
    "```\n",
    "![](images/set-symmetric_difference.png)\n",
    "\n",
    "Симметричная разность двух множеств включает в себя все элементы, которые есть только в одном из этих множеств:\n",
    "```python\n",
    "symm_diff = my_set1.symmetric_difference(my_set2)\n",
    "```\n",
    "Или аналогичный вариант:\n",
    "```python\n",
    "symm_diff = my_set1 ^ my_set2\n",
    "```\n",
    "Люди часто путают обозначения | и &, поэтому рекомендуется вместо них писать s1.union(s2) и s1.intersection(s2). Операции — и ^ перепутать сложнее, их можно записывать прямо так."
   ]
  },
  {
   "cell_type": "code",
   "execution_count": 12,
   "metadata": {},
   "outputs": [
    {
     "name": "stdout",
     "output_type": "stream",
     "text": [
      "{'a', 'b', 'd', 'c'}\n",
      "{'a', 'c'}\n",
      "{'b'}\n",
      "{'b', 'd'}\n"
     ]
    }
   ],
   "source": [
    "s1 = {'a', 'b', 'c'}\n",
    "s2 = {'a', 'c', 'd'}\n",
    "print(s1.union(s2))\n",
    "print(s1.intersection(s2))\n",
    "print(s1 - s2)\n",
    "print(s1 ^ s2)"
   ]
  },
  {
   "cell_type": "markdown",
   "metadata": {},
   "source": [
    "### Сравнение множеств\n",
    "\n",
    "Все операторы сравнения множеств, а именно ==, <, >, <=, >=, возвращают True, если сравнение истинно, и False в противном случае.\n",
    "\n",
    "Множества считаются равными, если они содержат одинаковые наборы элементов. Равенство множеств, как в случае с числами и строками, обозначается оператором ==.\n",
    "\n",
    "Неравенство множеств обозначается оператором !=. Он работает противоположно оператору ==.\n",
    "```python\n",
    "if set1 == set2:\n",
    "    print('Множества равны')\n",
    "else:\n",
    "    print('Множества не равны')\n",
    "```\n",
    "Теперь перейдём к операторам <=, >=. Они означают «является подмножеством» и «является надмножеством».\n",
    "\n",
    "**Подмножество** — это некоторая выборка элементов множества, которая может быть как меньше множества, так и совпадать с ним, на что указывают символы «<» и «=» в операторе <=. Наоборот, **надмножество** включает все элементы некоторого множества и, возможно, какие-то ещё."
   ]
  },
  {
   "cell_type": "code",
   "execution_count": 13,
   "metadata": {},
   "outputs": [
    {
     "name": "stdout",
     "output_type": "stream",
     "text": [
      "True\n",
      "True\n",
      "True\n",
      "False\n"
     ]
    }
   ],
   "source": [
    "s1 = {'a', 'b', 'c'}\n",
    "print(s1 <= s1)\n",
    " \n",
    "s2 = {'a', 'b'}\n",
    "print(s2 <= s1)\n",
    "s3 = {'a'}\n",
    "print(s3 <= s1)\n",
    "s4 = {'a', 'z'}\n",
    "print(s4 <= s1)"
   ]
  },
  {
   "cell_type": "markdown",
   "metadata": {},
   "source": [
    "### Задача \"Города\"\n",
    "\n",
    "![](images/wXxc-s41Yzc.jpg)\n",
    "\n",
    "![](images/6-XLZAHKU-k.jpg)"
   ]
  },
  {
   "cell_type": "code",
   "execution_count": 14,
   "metadata": {},
   "outputs": [],
   "source": [
    "# <напишите своё решение здесь>"
   ]
  },
  {
   "cell_type": "markdown",
   "metadata": {},
   "source": [
    "### 1.2.Список (list)\n",
    "\n",
    "Сегодня мы познакомимся с ещё одним типом-коллекцией, который называется **список (list)**. Никогда не создавайте переменные с таким именем!\n",
    "\n",
    "![](images/list-set-str03.svg)\n",
    "\n",
    "### Создание списков\n",
    "\n",
    "Чтобы задать готовый список, нужно справа от знака присваивания в квадратных скобках перечислить его элементы через запятую. Здесь создаётся список из первых пяти простых чисел, который помещается в переменную primes («простые числа»):"
   ]
  },
  {
   "cell_type": "code",
   "execution_count": 15,
   "metadata": {},
   "outputs": [
    {
     "name": "stdout",
     "output_type": "stream",
     "text": [
      "[2, 3, 5, 7, 11]\n"
     ]
    }
   ],
   "source": [
    "primes = [2, 3, 5, 7, 11]\n",
    "print(primes)"
   ]
  },
  {
   "cell_type": "markdown",
   "metadata": {},
   "source": [
    "Для того, чтобы создать пустой список, можно воспользоваться конструкцией \\[\\] или функцией **list**."
   ]
  },
  {
   "cell_type": "code",
   "execution_count": 16,
   "metadata": {},
   "outputs": [
    {
     "name": "stdout",
     "output_type": "stream",
     "text": [
      "[] []\n"
     ]
    }
   ],
   "source": [
    "empt1 = [] # это пустой список\n",
    "empt2 = list()  # и это тоже пустой список\n",
    "print(empt1, empt2)"
   ]
  },
  {
   "cell_type": "markdown",
   "metadata": {},
   "source": [
    "### Индексация в списках\n",
    "\n",
    "Чтобы получить отдельный элемент списка, нужно записать после него (или имени переменой, связанной с данным списком) в квадратных скобках номер (индекс) нужного элемента. Индекс отсчитывается с нуля — как в строках. Так же, как и в строках, для нумерации с конца разрешены отрицательные индексы.\n",
    "\n",
    "Таким образом, мы умеем использовать квадратные скобки в Python уже для трех вещей: задания нового списка (тогда внутри этих скобок перечисляются его элементы), получения элемента списка или строки по индексу (тогда в скобках указывается индекс) и получения среза строки."
   ]
  },
  {
   "cell_type": "code",
   "execution_count": 17,
   "metadata": {},
   "outputs": [
    {
     "name": "stdout",
     "output_type": "stream",
     "text": [
      "Сумма первых двух простых чисел: 5\n",
      "Последнее из простых чисел в нашем списке: 11\n"
     ]
    }
   ],
   "source": [
    "print('Сумма первых двух простых чисел:', primes[0] + primes[1])\n",
    "print('Последнее из простых чисел в нашем списке:', primes[-1])"
   ]
  },
  {
   "cell_type": "markdown",
   "metadata": {},
   "source": [
    "Как и в строках, попытка обратиться к индексу с несуществующим индексом вызовет ошибку:"
   ]
  },
  {
   "cell_type": "code",
   "execution_count": 18,
   "metadata": {},
   "outputs": [
    {
     "ename": "IndexError",
     "evalue": "list index out of range",
     "output_type": "error",
     "traceback": [
      "\u001b[0;31m---------------------------------------------------------------------------\u001b[0m",
      "\u001b[0;31mIndexError\u001b[0m                                Traceback (most recent call last)",
      "\u001b[0;32m<ipython-input-18-1c58b194a041>\u001b[0m in \u001b[0;36m<module>\u001b[0;34m\u001b[0m\n\u001b[0;32m----> 1\u001b[0;31m \u001b[0mprint\u001b[0m\u001b[0;34m(\u001b[0m\u001b[0mprimes\u001b[0m\u001b[0;34m[\u001b[0m\u001b[0;36m5\u001b[0m\u001b[0;34m]\u001b[0m\u001b[0;34m)\u001b[0m \u001b[0;31m# ошибка: index out of range\u001b[0m\u001b[0;34m\u001b[0m\u001b[0;34m\u001b[0m\u001b[0m\n\u001b[0m",
      "\u001b[0;31mIndexError\u001b[0m: list index out of range"
     ]
    }
   ],
   "source": [
    "print(primes[5]) # ошибка: index out of range"
   ]
  },
  {
   "cell_type": "markdown",
   "metadata": {},
   "source": [
    "### Добавление элемента в список\n",
    "\n",
    "Добавление элемента в конец списка делается при помощи метода **append** (этот метод аналогичен методу add, используемому для добавления элементов в множество):"
   ]
  },
  {
   "cell_type": "code",
   "execution_count": 19,
   "metadata": {},
   "outputs": [
    {
     "name": "stdout",
     "output_type": "stream",
     "text": [
      "[2, 3, 5, 7, 11, 13, 15]\n"
     ]
    }
   ],
   "source": [
    "primes.append(13)\n",
    "primes.append(15)  # ой, ошиблись -- 15 составное число!\n",
    "print(primes)"
   ]
  },
  {
   "cell_type": "markdown",
   "metadata": {},
   "source": [
    "Обратите внимание: для того, чтобы воспользоваться методом append, нужно, чтобы список был создан (при этом он может быть пустым).\n",
    "\n",
    "Кроме того вы можете расширить имеющийся список любым итерабельным (перечисляемым) объектом с помощью метода **extend**:"
   ]
  },
  {
   "cell_type": "code",
   "execution_count": 20,
   "metadata": {},
   "outputs": [
    {
     "name": "stdout",
     "output_type": "stream",
     "text": [
      "[1, 2, 3, 4, 5, 6]\n"
     ]
    }
   ],
   "source": [
    "my_list = [1, 2, 3]\n",
    "another_list = [4, 5, 6]\n",
    "my_list.extend(another_list)\n",
    "print(my_list)"
   ]
  },
  {
   "cell_type": "markdown",
   "metadata": {},
   "source": [
    "Имейте в виду, что строка является итерируемой, поэтому, если вы расширите список со строкой, вы добавите каждый символ, когда будете перебирать строку (что может быть не так, как вы хотите):"
   ]
  },
  {
   "cell_type": "code",
   "execution_count": 21,
   "metadata": {},
   "outputs": [
    {
     "name": "stdout",
     "output_type": "stream",
     "text": [
      "[1, 2, 3, 'п', 'р', 'и', 'в', 'е', 'т']\n"
     ]
    }
   ],
   "source": [
    "my_list = [1, 2, 3]\n",
    "another_list = \"привет\"\n",
    "my_list.extend(another_list)\n",
    "print(my_list)"
   ]
  },
  {
   "cell_type": "markdown",
   "metadata": {},
   "source": [
    "В отличие от отдельных символов в строках, элемент списка можно поместить справа от «=» в операторе присваивания и тем самым изменить этот элемент:"
   ]
  },
  {
   "cell_type": "code",
   "execution_count": 22,
   "metadata": {},
   "outputs": [],
   "source": [
    "primes[6] = 17  # Исправляем ошибку:\n",
    "                # седьмое (нумерация элементов списка - с нуля!)\n",
    "                # простое число - не 15, а 17."
   ]
  },
  {
   "cell_type": "markdown",
   "metadata": {},
   "source": [
    "Тем не менее, многие вещи, которые можно делать со строками, можно делать и со списками:"
   ]
  },
  {
   "cell_type": "code",
   "execution_count": 23,
   "metadata": {},
   "outputs": [
    {
     "name": "stdout",
     "output_type": "stream",
     "text": [
      "7\n",
      "[2, 3, 5, 7, 11, 13, 17, 23, 29]\n",
      "Мы, как и всё остальное человечество, не считаем 1 простым числом.\n"
     ]
    }
   ],
   "source": [
    "print(len(primes))  # выводим длину списка\n",
    "primes += [23, 29]  # списки можно складывать, как и строки\n",
    "print(primes)  # выведет [2, 3, 5, 7, 11, 13, 17, 19, 23, 29]\n",
    "if 1 in primes:  # можно проверять, содержится ли в списке элемент\n",
    "    print('Мы считаем единицу простым числом.')\n",
    "else:\n",
    "    print('Мы, как и всё остальное человечество, '\n",
    "           'не считаем 1 простым числом.')"
   ]
  },
  {
   "cell_type": "markdown",
   "metadata": {},
   "source": [
    "### Перебор элементов списка\n",
    "\n",
    "Во время выполнения программы текущее количество элементов списка всегда известно. Поэтому если нужно что-то сделать с каждым элементом списка (например, напечатать его на экране), можно перебрать элементы с помощью цикла for. При этом, как и для строк, возможны два варианта перебора: перебор индексов и перебор самих элементов."
   ]
  },
  {
   "cell_type": "code",
   "execution_count": 24,
   "metadata": {},
   "outputs": [
    {
     "name": "stdout",
     "output_type": "stream",
     "text": [
      "Простое число номер 1 - 2\n",
      "Простое число номер 2 - 3\n",
      "Простое число номер 3 - 5\n",
      "Простое число номер 4 - 7\n",
      "Простое число номер 5 - 11\n",
      "Простое число номер 6 - 13\n",
      "Простое число номер 7 - 17\n",
      "Простое число номер 8 - 23\n",
      "Простое число номер 9 - 29\n",
      "Квадрат числа 2 - 4\n",
      "Квадрат числа 3 - 9\n",
      "Квадрат числа 5 - 25\n",
      "Квадрат числа 7 - 49\n",
      "Квадрат числа 11 - 121\n",
      "Квадрат числа 13 - 169\n",
      "Квадрат числа 17 - 289\n",
      "Квадрат числа 23 - 529\n",
      "Квадрат числа 29 - 841\n"
     ]
    }
   ],
   "source": [
    "for i in range(len(primes)):\n",
    "    # выведем по очереди все элементы списка...\n",
    "    print('Простое число номер', i + 1, '-', primes[i]) \n",
    "for p in primes:\n",
    "    print('Квадрат числа', p, '-', p ** 2) # и их квадраты"
   ]
  },
  {
   "cell_type": "markdown",
   "metadata": {},
   "source": [
    "Заметьте, что при использовании конструкции for i in range(len(имя_списка)) индексы перебираются в цикле очень удобно: от 0 включительно до длины списка не включительно. Таким образом можно перебрать все элементы списка.\n",
    "\n",
    "Цикл for нередко используется и для формирования списка, если мы заранее знаем, сколько элементов в нём должно быть:"
   ]
  },
  {
   "cell_type": "code",
   "execution_count": 25,
   "metadata": {},
   "outputs": [
    {
     "name": "stdout",
     "output_type": "stream",
     "text": [
      "Введите 10 значений:\n",
      "aaa\n",
      "rofl kek\n",
      "python\n",
      "\n",
      "12345\n",
      "qwerty\n",
      "blockchain\n",
      "test\n",
      ":)\n",
      "f##k\n",
      "Получился список строк: ['aaa', 'rofl kek', 'python', '', '12345', 'qwerty', 'blockchain', 'test', ':)', 'f##k']\n"
     ]
    }
   ],
   "source": [
    "n = 10\n",
    "a = []\n",
    "print('Введите', n, 'значений:')\n",
    "for i in range(n):\n",
    "    a.append(input())\n",
    "print('Получился список строк:', a)"
   ]
  },
  {
   "cell_type": "markdown",
   "metadata": {},
   "source": [
    "Как и для строк, для списков определена операция взятия среза:"
   ]
  },
  {
   "cell_type": "code",
   "execution_count": 26,
   "metadata": {},
   "outputs": [
    {
     "name": "stdout",
     "output_type": "stream",
     "text": [
      "март\n",
      "апрель\n",
      "май\n"
     ]
    }
   ],
   "source": [
    "months = ['январь', 'февраль', 'март', 'апрель', 'май', 'июнь', 'июль', \n",
    "          'август', 'сентябрь', 'октябрь', 'ноябрь', 'декабрь']\n",
    "spring = months[2:5]  # spring == ['март', 'апрель', 'май']\n",
    "for month in spring:\n",
    "    print(month)"
   ]
  },
  {
   "cell_type": "markdown",
   "metadata": {},
   "source": [
    "Срезы можно использовать и для присваивания новых значений элементам списка. Например, если мы решим перевести на английский названия летних месяцев, то это можно сделать с помощью среза:"
   ]
  },
  {
   "cell_type": "code",
   "execution_count": 27,
   "metadata": {},
   "outputs": [
    {
     "name": "stdout",
     "output_type": "stream",
     "text": [
      "['январь', 'февраль', 'март', 'апрель', 'май', 'June', 'July', 'August', 'сентябрь', 'октябрь', 'ноябрь', 'декабрь']\n"
     ]
    }
   ],
   "source": [
    "months[5:8] = ['June', 'July', 'August']\n",
    "print(months)"
   ]
  },
  {
   "cell_type": "markdown",
   "metadata": {},
   "source": [
    "### Задача \"Числа Трибоначчи\"\n",
    "\n",
    "![](images/NtDF3CvmTWE.jpg)"
   ]
  },
  {
   "cell_type": "code",
   "execution_count": 28,
   "metadata": {},
   "outputs": [],
   "source": [
    "# <напишите своё решение здесь>"
   ]
  }
 ],
 "metadata": {
  "kernelspec": {
   "display_name": "Python 3",
   "language": "python",
   "name": "python3"
  },
  "language_info": {
   "codemirror_mode": {
    "name": "ipython",
    "version": 3
   },
   "file_extension": ".py",
   "mimetype": "text/x-python",
   "name": "python",
   "nbconvert_exporter": "python",
   "pygments_lexer": "ipython3",
   "version": "3.7.3"
  }
 },
 "nbformat": 4,
 "nbformat_minor": 2
}
